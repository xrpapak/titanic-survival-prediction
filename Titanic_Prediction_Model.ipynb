{
 "cells": [
  {
   "cell_type": "markdown",
   "id": "6cd830d7",
   "metadata": {},
   "source": [
    "# 🚢 Titanic Survival Prediction\n",
    "\n",
    "This project uses the Titanic dataset to build predictive models that estimate the survival of passengers. We apply machine learning techniques such as Logistic Regression and Random Forest, and explore data preprocessing, feature engineering, and model evaluation."
   ]
  },
  {
   "cell_type": "markdown",
   "id": "7c56f622",
   "metadata": {},
   "source": [
    "## 📥 Load Data"
   ]
  },
  {
   "cell_type": "code",
   "execution_count": null,
   "id": "e49540f7",
   "metadata": {},
   "outputs": [],
   "source": [
    "import pandas as pd\n",
    "\n",
    "train = pd.read_csv('train.csv')\n",
    "test = pd.read_csv('test.csv')\n",
    "\n",
    "print(\"Train shape:\", train.shape)\n",
    "print(\"Test shape:\", test.shape)\n",
    "train.head()"
   ]
  },
  {
   "cell_type": "markdown",
   "id": "a5b900dc",
   "metadata": {},
   "source": [
    "## 🧹 Data Overview and Missing Values"
   ]
  },
  {
   "cell_type": "code",
   "execution_count": null,
   "id": "6267ca24",
   "metadata": {},
   "outputs": [],
   "source": [
    "train.info()\n",
    "train.isnull().sum()"
   ]
  },
  {
   "cell_type": "markdown",
   "id": "b459bcf6",
   "metadata": {},
   "source": [
    "## 📊 Exploratory Data Analysis"
   ]
  },
  {
   "cell_type": "code",
   "execution_count": null,
   "id": "c80aff76",
   "metadata": {},
   "outputs": [],
   "source": [
    "import seaborn as sns\n",
    "import matplotlib.pyplot as plt\n",
    "\n",
    "sns.countplot(data=train, x='Sex', hue='Survived')\n",
    "plt.title('Survival Count by Gender')\n",
    "plt.show()"
   ]
  },
  {
   "cell_type": "code",
   "execution_count": null,
   "id": "6dff8db6",
   "metadata": {},
   "outputs": [],
   "source": [
    "sns.countplot(data=train, x='Pclass', hue='Survived')\n",
    "plt.title('Survival Count by Passenger Class')\n",
    "plt.show()"
   ]
  },
  {
   "cell_type": "code",
   "execution_count": null,
   "id": "e27d1b03",
   "metadata": {},
   "outputs": [],
   "source": [
    "sns.histplot(data=train, x='Age', hue='Survived', bins=30, kde=True)\n",
    "plt.title('Age Distribution by Survival')\n",
    "plt.show()"
   ]
  },
  {
   "cell_type": "markdown",
   "id": "c461157f",
   "metadata": {},
   "source": [
    "## 🛠️ Data Preprocessing"
   ]
  },
  {
   "cell_type": "code",
   "execution_count": null,
   "id": "e1cf2530",
   "metadata": {},
   "outputs": [],
   "source": [
    "# Encode 'Sex'\n",
    "train['Sex'] = train['Sex'].map({'male': 0, 'female': 1})\n",
    "test['Sex'] = test['Sex'].map({'male': 0, 'female': 1})\n",
    "\n",
    "# Fill missing values\n",
    "train['Age'] = train['Age'].fillna(train['Age'].median())\n",
    "test['Age'] = test['Age'].fillna(test['Age'].median())\n",
    "train['Embarked'] = train['Embarked'].fillna(train['Embarked'].mode()[0])\n",
    "test['Fare'] = test['Fare'].fillna(test['Fare'].median())\n",
    "\n",
    "# Drop unused columns\n",
    "columns_to_drop = ['Cabin', 'Ticket', 'Name']\n",
    "train = train.drop(columns=columns_to_drop)\n",
    "test = test.drop(columns=columns_to_drop)\n",
    "\n",
    "# One-hot encoding\n",
    "train = pd.get_dummies(train, columns=['Embarked'], drop_first=True)\n",
    "test = pd.get_dummies(test, columns=['Embarked'], drop_first=True)\n"
   ]
  },
  {
   "cell_type": "markdown",
   "id": "76fbd891",
   "metadata": {},
   "source": [
    "## 🤖 Logistic Regression"
   ]
  },
  {
   "cell_type": "code",
   "execution_count": null,
   "id": "d9673c8b",
   "metadata": {},
   "outputs": [],
   "source": [
    "from sklearn.model_selection import train_test_split\n",
    "from sklearn.linear_model import LogisticRegression\n",
    "from sklearn.metrics import accuracy_score\n",
    "\n",
    "X = train.drop(columns='Survived')\n",
    "y = train['Survived']\n",
    "X_test = test[X.columns]\n",
    "X = X.fillna(0)\n",
    "X_test = X_test.fillna(0)\n",
    "\n",
    "X_train, X_val, y_train, y_val = train_test_split(X, y, test_size=0.2, random_state=42)\n",
    "\n",
    "model = LogisticRegression(max_iter=1000)\n",
    "model.fit(X_train, y_train)\n",
    "\n",
    "y_pred = model.predict(X_val)\n",
    "accuracy = accuracy_score(y_val, y_pred)\n",
    "print(f'Logistic Regression Accuracy: {accuracy:.4f}')"
   ]
  },
  {
   "cell_type": "code",
   "execution_count": null,
   "id": "266acf0c",
   "metadata": {},
   "outputs": [],
   "source": [
    "# Feature Importance\n",
    "import numpy as np\n",
    "importance = pd.DataFrame({\n",
    "    'Feature': X.columns,\n",
    "    'Coefficient': model.coef_[0],\n",
    "    'Abs_Coefficient': np.abs(model.coef_[0])\n",
    "})\n",
    "importance.sort_values(by='Abs_Coefficient', ascending=False)"
   ]
  },
  {
   "cell_type": "markdown",
   "id": "3200b299",
   "metadata": {},
   "source": [
    "## 🌲 Random Forest Classifier"
   ]
  },
  {
   "cell_type": "code",
   "execution_count": null,
   "id": "1d46cfa9",
   "metadata": {},
   "outputs": [],
   "source": [
    "from sklearn.ensemble import RandomForestClassifier\n",
    "\n",
    "rf_model = RandomForestClassifier(n_estimators=100, random_state=42)\n",
    "rf_model.fit(X_train, y_train)\n",
    "rf_pred = rf_model.predict(X_val)\n",
    "rf_accuracy = accuracy_score(y_val, rf_pred)\n",
    "print(f'Random Forest Accuracy: {rf_accuracy:.4f}')"
   ]
  },
  {
   "cell_type": "code",
   "execution_count": null,
   "id": "fb10d964",
   "metadata": {},
   "outputs": [],
   "source": [
    "rf_importance = pd.DataFrame({\n",
    "    'Feature': X.columns,\n",
    "    'Importance': rf_model.feature_importances_\n",
    "}).sort_values(by='Importance', ascending=False)\n",
    "rf_importance"
   ]
  },
  {
   "cell_type": "markdown",
   "id": "42a6ba60",
   "metadata": {},
   "source": [
    "## 🧾 Final Model (without PassengerId) and Submission File"
   ]
  },
  {
   "cell_type": "code",
   "execution_count": null,
   "id": "c2a03826",
   "metadata": {},
   "outputs": [],
   "source": [
    "X = X.drop(columns='PassengerId')\n",
    "X_test_final = X_test.drop(columns='PassengerId')\n",
    "\n",
    "X_train, X_val, y_train, y_val = train_test_split(X, y, test_size=0.2, random_state=42)\n",
    "\n",
    "final_model = RandomForestClassifier(n_estimators=100, random_state=42)\n",
    "final_model.fit(X_train, y_train)\n",
    "val_pred = final_model.predict(X_val)\n",
    "final_accuracy = accuracy_score(y_val, val_pred)\n",
    "print(f'Final Random Forest Accuracy (no PassengerId): {final_accuracy:.4f}')"
   ]
  },
  {
   "cell_type": "code",
   "execution_count": null,
   "id": "79b79ca0",
   "metadata": {},
   "outputs": [],
   "source": [
    "original_test = pd.read_csv('test.csv')\n",
    "test_predictions = final_model.predict(X_test_final)\n",
    "submission = pd.DataFrame({\n",
    "    'PassengerId': original_test['PassengerId'],\n",
    "    'Survived': test_predictions\n",
    "})\n",
    "submission.to_csv('titanic_submission.csv', index=False)\n",
    "submission.head()"
   ]
  }
 ],
 "metadata": {},
 "nbformat": 4,
 "nbformat_minor": 5
}
